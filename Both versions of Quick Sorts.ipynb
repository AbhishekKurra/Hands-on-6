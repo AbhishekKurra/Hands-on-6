{
  "nbformat": 4,
  "nbformat_minor": 0,
  "metadata": {
    "colab": {
      "provenance": [],
      "authorship_tag": "ABX9TyOBxKOGEb3mw6z74G1gH5z0",
      "include_colab_link": true
    },
    "kernelspec": {
      "name": "python3",
      "display_name": "Python 3"
    },
    "language_info": {
      "name": "python"
    }
  },
  "cells": [
    {
      "cell_type": "markdown",
      "metadata": {
        "id": "view-in-github",
        "colab_type": "text"
      },
      "source": [
        "<a href=\"https://colab.research.google.com/github/AbhishekKurra/Hands-on-6/blob/main/Both%20versions%20of%20Quick%20Sorts.ipynb\" target=\"_parent\"><img src=\"https://colab.research.google.com/assets/colab-badge.svg\" alt=\"Open In Colab\"/></a>"
      ]
    },
    {
      "cell_type": "code",
      "execution_count": 1,
      "metadata": {
        "colab": {
          "base_uri": "https://localhost:8080/"
        },
        "id": "VncLGC3qeGJH",
        "outputId": "a28f1bd8-34e7-42b7-80d7-0666a5b9c2e6"
      },
      "outputs": [
        {
          "output_type": "stream",
          "name": "stdout",
          "text": [
            "Standard QuickSort: [1, 3, 4, 6, 7, 8, 10]\n",
            "Randomized QuickSort: [1, 3, 4, 6, 7, 8, 10]\n"
          ]
        }
      ],
      "source": [
        "import random\n",
        "\n",
        "def quicksort(arr):\n",
        "    if len(arr) <= 1:\n",
        "        return arr\n",
        "    pivot = arr[len(arr) // 2]\n",
        "    left = [x for x in arr if x < pivot]\n",
        "    middle = [x for x in arr if x == pivot]\n",
        "    right = [x for x in arr if x > pivot]\n",
        "    return quicksort(left) + middle + quicksort(right)\n",
        "\n",
        "def randomized_quicksort(arr):\n",
        "    if len(arr) <= 1:\n",
        "        return arr\n",
        "    pivot = random.choice(arr)\n",
        "    left = [x for x in arr if x < pivot]\n",
        "    middle = [x for x in arr if x == pivot]\n",
        "    right = [x for x in arr if x > pivot]\n",
        "    return randomized_quicksort(left) + middle + randomized_quicksort(right)\n",
        "\n",
        "\n",
        "data = [8, 4, 3, 1, 6, 7, 10]\n",
        "print(\"Standard QuickSort:\", quicksort(data))\n",
        "print(\"Randomized QuickSort:\", randomized_quicksort(data))\n"
      ]
    }
  ]
}